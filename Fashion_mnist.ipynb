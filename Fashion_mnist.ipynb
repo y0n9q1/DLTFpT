{
  "nbformat": 4,
  "nbformat_minor": 0,
  "metadata": {
    "colab": {
      "name": "Untitled0.ipynb",
      "provenance": [],
      "authorship_tag": "ABX9TyMYGnK79dA8xECZAzCwkAiu",
      "include_colab_link": true
    },
    "kernelspec": {
      "name": "python3",
      "display_name": "Python 3"
    },
    "accelerator": "GPU"
  },
  "cells": [
    {
      "cell_type": "markdown",
      "metadata": {
        "id": "view-in-github",
        "colab_type": "text"
      },
      "source": [
        "<a href=\"https://colab.research.google.com/github/y0n9q1/DLTFpT/blob/master/Fashion_mnist.ipynb\" target=\"_parent\"><img src=\"https://colab.research.google.com/assets/colab-badge.svg\" alt=\"Open In Colab\"/></a>"
      ]
    },
    {
      "cell_type": "code",
      "metadata": {
        "id": "uEfOcscq6e0N",
        "outputId": "b6a463ab-545f-4003-b8cb-d4df99273b99",
        "colab": {
          "base_uri": "https://localhost:8080/"
        }
      },
      "source": [
        "import tensorflow\n",
        "from tensorflow.keras.datasets import fashion_mnist # new!\n",
        "from tensorflow.keras.utils import to_categorical\n",
        "from tensorflow.keras.models import Sequential\n",
        "from tensorflow.keras.layers import Dense, Dropout\n",
        "from tensorflow.keras.layers import Flatten, Conv2D, MaxPooling2D \n",
        "from matplotlib import pyplot as plt\n",
        "\n",
        "(X_train,y_train),(X_valid,y_valid) = fashion_mnist.load_data()\n",
        "X_train = X_train.reshape(60000, 28,28,1).astype('float32')\n",
        "X_valid = X_valid.reshape(10000, 28,28,1).astype('float32')\n",
        "X_train /= 255\n",
        "X_valid /= 255\n",
        "n_classes = 10\n",
        "y_train = to_categorical(y_train, n_classes)\n",
        "y_valid = to_categorical(y_valid, n_classes)\n",
        "model = Sequential()\n",
        "model.add(Conv2D(32, kernel_size=(3,3),activation='relu', input_shape=(28,28,1)))\n",
        "model.add(Conv2D(64, kernel_size=(3,3),activation='relu'))\n",
        "model.add(MaxPooling2D(pool_size=(2,2)))\n",
        "model.add(Dropout(0.25))\n",
        "model.add(Flatten())\n",
        "model.add(Dense(128,activation='relu'))\n",
        "model.add(Dropout(0.5))\n",
        "model.add(Dense(10, activation='softmax'))\n"
      ],
      "execution_count": 1,
      "outputs": [
        {
          "output_type": "stream",
          "text": [
            "Downloading data from https://storage.googleapis.com/tensorflow/tf-keras-datasets/train-labels-idx1-ubyte.gz\n",
            "32768/29515 [=================================] - 0s 0us/step\n",
            "Downloading data from https://storage.googleapis.com/tensorflow/tf-keras-datasets/train-images-idx3-ubyte.gz\n",
            "26427392/26421880 [==============================] - 0s 0us/step\n",
            "Downloading data from https://storage.googleapis.com/tensorflow/tf-keras-datasets/t10k-labels-idx1-ubyte.gz\n",
            "8192/5148 [===============================================] - 0s 0us/step\n",
            "Downloading data from https://storage.googleapis.com/tensorflow/tf-keras-datasets/t10k-images-idx3-ubyte.gz\n",
            "4423680/4422102 [==============================] - 0s 0us/step\n",
            "Epoch 1/10\n",
            "938/938 [==============================] - 8s 8ms/step - loss: 0.4931 - accuracy: 0.8255 - val_loss: 0.3238 - val_accuracy: 0.8786\n",
            "Epoch 2/10\n",
            "938/938 [==============================] - 7s 8ms/step - loss: 0.3301 - accuracy: 0.8808 - val_loss: 0.2868 - val_accuracy: 0.8970\n",
            "Epoch 3/10\n",
            "938/938 [==============================] - 8s 8ms/step - loss: 0.2825 - accuracy: 0.8972 - val_loss: 0.2538 - val_accuracy: 0.9039\n",
            "Epoch 4/10\n",
            "938/938 [==============================] - 8s 8ms/step - loss: 0.2530 - accuracy: 0.9089 - val_loss: 0.2401 - val_accuracy: 0.9087\n",
            "Epoch 5/10\n",
            "938/938 [==============================] - 7s 8ms/step - loss: 0.2259 - accuracy: 0.9177 - val_loss: 0.2416 - val_accuracy: 0.9109\n",
            "Epoch 6/10\n",
            "938/938 [==============================] - 7s 8ms/step - loss: 0.2056 - accuracy: 0.9247 - val_loss: 0.2286 - val_accuracy: 0.9163\n",
            "Epoch 7/10\n",
            "938/938 [==============================] - 7s 8ms/step - loss: 0.1899 - accuracy: 0.9303 - val_loss: 0.2216 - val_accuracy: 0.9219\n",
            "Epoch 8/10\n",
            "938/938 [==============================] - 7s 8ms/step - loss: 0.1735 - accuracy: 0.9352 - val_loss: 0.2233 - val_accuracy: 0.9218\n",
            "Epoch 9/10\n",
            "938/938 [==============================] - 7s 8ms/step - loss: 0.1633 - accuracy: 0.9387 - val_loss: 0.2191 - val_accuracy: 0.9260\n",
            "Epoch 10/10\n",
            "938/938 [==============================] - 8s 8ms/step - loss: 0.1517 - accuracy: 0.9431 - val_loss: 0.2181 - val_accuracy: 0.9231\n"
          ],
          "name": "stdout"
        },
        {
          "output_type": "execute_result",
          "data": {
            "text/plain": [
              "<tensorflow.python.keras.callbacks.History at 0x7f6cf00716a0>"
            ]
          },
          "metadata": {
            "tags": []
          },
          "execution_count": 1
        }
      ]
    },
    {
      "cell_type": "code",
      "metadata": {
        "id": "EbgffZZm7soa",
        "outputId": "a6eef7eb-3263-43a1-ad37-092a908e75fb",
        "colab": {
          "base_uri": "https://localhost:8080/"
        }
      },
      "source": [
        "model.compile(loss='categorical_crossentropy', optimizer='nadam', metrics=['accuracy'])\n",
        "model.fit(X_train, y_train, batch_size=256, epochs=30, verbose=1, validation_data=(X_valid, y_valid))"
      ],
      "execution_count": 5,
      "outputs": [
        {
          "output_type": "stream",
          "text": [
            "Epoch 1/30\n",
            "235/235 [==============================] - 4s 17ms/step - loss: 0.0259 - accuracy: 0.9899 - val_loss: 0.4911 - val_accuracy: 0.9349\n",
            "Epoch 2/30\n",
            "235/235 [==============================] - 4s 17ms/step - loss: 0.0262 - accuracy: 0.9907 - val_loss: 0.4484 - val_accuracy: 0.9316\n",
            "Epoch 3/30\n",
            "235/235 [==============================] - 4s 17ms/step - loss: 0.0267 - accuracy: 0.9906 - val_loss: 0.4891 - val_accuracy: 0.9354\n",
            "Epoch 4/30\n",
            "235/235 [==============================] - 4s 17ms/step - loss: 0.0246 - accuracy: 0.9912 - val_loss: 0.4580 - val_accuracy: 0.9339\n",
            "Epoch 5/30\n",
            "235/235 [==============================] - 4s 17ms/step - loss: 0.0250 - accuracy: 0.9911 - val_loss: 0.5194 - val_accuracy: 0.9344\n",
            "Epoch 6/30\n",
            "235/235 [==============================] - 4s 17ms/step - loss: 0.0272 - accuracy: 0.9909 - val_loss: 0.5072 - val_accuracy: 0.9336\n",
            "Epoch 7/30\n",
            "235/235 [==============================] - 4s 17ms/step - loss: 0.0255 - accuracy: 0.9905 - val_loss: 0.4718 - val_accuracy: 0.9354\n",
            "Epoch 8/30\n",
            "235/235 [==============================] - 4s 17ms/step - loss: 0.0234 - accuracy: 0.9919 - val_loss: 0.5092 - val_accuracy: 0.9329\n",
            "Epoch 9/30\n",
            "235/235 [==============================] - 4s 17ms/step - loss: 0.0233 - accuracy: 0.9914 - val_loss: 0.4917 - val_accuracy: 0.9351\n",
            "Epoch 10/30\n",
            "235/235 [==============================] - 4s 17ms/step - loss: 0.0237 - accuracy: 0.9915 - val_loss: 0.5154 - val_accuracy: 0.9343\n",
            "Epoch 11/30\n",
            "235/235 [==============================] - 4s 17ms/step - loss: 0.0235 - accuracy: 0.9917 - val_loss: 0.4879 - val_accuracy: 0.9355\n",
            "Epoch 12/30\n",
            "235/235 [==============================] - 4s 17ms/step - loss: 0.0237 - accuracy: 0.9916 - val_loss: 0.4577 - val_accuracy: 0.9349\n",
            "Epoch 13/30\n",
            "235/235 [==============================] - 4s 17ms/step - loss: 0.0229 - accuracy: 0.9913 - val_loss: 0.4258 - val_accuracy: 0.9345\n",
            "Epoch 14/30\n",
            "235/235 [==============================] - 4s 17ms/step - loss: 0.0229 - accuracy: 0.9913 - val_loss: 0.4941 - val_accuracy: 0.9332\n",
            "Epoch 15/30\n",
            "235/235 [==============================] - 4s 17ms/step - loss: 0.0226 - accuracy: 0.9919 - val_loss: 0.5935 - val_accuracy: 0.9340\n",
            "Epoch 16/30\n",
            "235/235 [==============================] - 4s 18ms/step - loss: 0.0220 - accuracy: 0.9922 - val_loss: 0.5390 - val_accuracy: 0.9345\n",
            "Epoch 17/30\n",
            "235/235 [==============================] - 4s 17ms/step - loss: 0.0236 - accuracy: 0.9914 - val_loss: 0.5002 - val_accuracy: 0.9338\n",
            "Epoch 18/30\n",
            "235/235 [==============================] - 4s 17ms/step - loss: 0.0206 - accuracy: 0.9924 - val_loss: 0.5053 - val_accuracy: 0.9335\n",
            "Epoch 19/30\n",
            "235/235 [==============================] - 4s 17ms/step - loss: 0.0218 - accuracy: 0.9920 - val_loss: 0.5361 - val_accuracy: 0.9318\n",
            "Epoch 20/30\n",
            "235/235 [==============================] - 4s 17ms/step - loss: 0.0215 - accuracy: 0.9919 - val_loss: 0.5165 - val_accuracy: 0.9316\n",
            "Epoch 21/30\n",
            "235/235 [==============================] - 4s 17ms/step - loss: 0.0230 - accuracy: 0.9923 - val_loss: 0.5194 - val_accuracy: 0.9341\n",
            "Epoch 22/30\n",
            "235/235 [==============================] - 4s 17ms/step - loss: 0.0212 - accuracy: 0.9922 - val_loss: 0.4750 - val_accuracy: 0.9324\n",
            "Epoch 23/30\n",
            "235/235 [==============================] - 4s 17ms/step - loss: 0.0208 - accuracy: 0.9922 - val_loss: 0.5019 - val_accuracy: 0.9314\n",
            "Epoch 24/30\n",
            "235/235 [==============================] - 4s 17ms/step - loss: 0.0220 - accuracy: 0.9920 - val_loss: 0.4963 - val_accuracy: 0.9337\n",
            "Epoch 25/30\n",
            "235/235 [==============================] - 4s 17ms/step - loss: 0.0233 - accuracy: 0.9920 - val_loss: 0.5291 - val_accuracy: 0.9317\n",
            "Epoch 26/30\n",
            "235/235 [==============================] - 4s 17ms/step - loss: 0.0216 - accuracy: 0.9924 - val_loss: 0.5122 - val_accuracy: 0.9333\n",
            "Epoch 27/30\n",
            "235/235 [==============================] - 4s 17ms/step - loss: 0.0211 - accuracy: 0.9925 - val_loss: 0.5204 - val_accuracy: 0.9343\n",
            "Epoch 28/30\n",
            "235/235 [==============================] - 4s 17ms/step - loss: 0.0201 - accuracy: 0.9927 - val_loss: 0.5125 - val_accuracy: 0.9319\n",
            "Epoch 29/30\n",
            "235/235 [==============================] - 4s 17ms/step - loss: 0.0219 - accuracy: 0.9920 - val_loss: 0.4964 - val_accuracy: 0.9323\n",
            "Epoch 30/30\n",
            "235/235 [==============================] - 4s 17ms/step - loss: 0.0215 - accuracy: 0.9925 - val_loss: 0.4820 - val_accuracy: 0.9323\n"
          ],
          "name": "stdout"
        },
        {
          "output_type": "execute_result",
          "data": {
            "text/plain": [
              "<tensorflow.python.keras.callbacks.History at 0x7f6c8e52bc50>"
            ]
          },
          "metadata": {
            "tags": []
          },
          "execution_count": 5
        }
      ]
    },
    {
      "cell_type": "code",
      "metadata": {
        "id": "mmH1Kr7V8ntH",
        "outputId": "b00b6030-ef69-4ed5-cabd-b27ea1794ed4",
        "colab": {
          "base_uri": "https://localhost:8080/"
        }
      },
      "source": [
        "model.fit(X_train, y_train, batch_size=128, epochs=30, verbose=1, validation_data=(X_valid, y_valid))"
      ],
      "execution_count": 4,
      "outputs": [
        {
          "output_type": "stream",
          "text": [
            "Epoch 1/30\n",
            "469/469 [==============================] - 5s 11ms/step - loss: 0.0422 - accuracy: 0.9849 - val_loss: 0.3796 - val_accuracy: 0.9318\n",
            "Epoch 2/30\n",
            "469/469 [==============================] - 5s 11ms/step - loss: 0.0369 - accuracy: 0.9864 - val_loss: 0.4119 - val_accuracy: 0.9325\n",
            "Epoch 3/30\n",
            "469/469 [==============================] - 5s 11ms/step - loss: 0.0369 - accuracy: 0.9865 - val_loss: 0.4425 - val_accuracy: 0.9309\n",
            "Epoch 4/30\n",
            "469/469 [==============================] - 5s 11ms/step - loss: 0.0329 - accuracy: 0.9881 - val_loss: 0.4222 - val_accuracy: 0.9334\n",
            "Epoch 5/30\n",
            "469/469 [==============================] - 5s 11ms/step - loss: 0.0367 - accuracy: 0.9865 - val_loss: 0.4151 - val_accuracy: 0.9345\n",
            "Epoch 6/30\n",
            "469/469 [==============================] - 5s 11ms/step - loss: 0.0335 - accuracy: 0.9877 - val_loss: 0.4342 - val_accuracy: 0.9303\n",
            "Epoch 7/30\n",
            "469/469 [==============================] - 5s 11ms/step - loss: 0.0364 - accuracy: 0.9862 - val_loss: 0.3994 - val_accuracy: 0.9332\n",
            "Epoch 8/30\n",
            "469/469 [==============================] - 5s 11ms/step - loss: 0.0353 - accuracy: 0.9867 - val_loss: 0.4500 - val_accuracy: 0.9336\n",
            "Epoch 9/30\n",
            "469/469 [==============================] - 5s 11ms/step - loss: 0.0337 - accuracy: 0.9874 - val_loss: 0.4327 - val_accuracy: 0.9316\n",
            "Epoch 10/30\n",
            "469/469 [==============================] - 5s 11ms/step - loss: 0.0355 - accuracy: 0.9866 - val_loss: 0.3873 - val_accuracy: 0.9312\n",
            "Epoch 11/30\n",
            "469/469 [==============================] - 5s 11ms/step - loss: 0.0336 - accuracy: 0.9878 - val_loss: 0.4338 - val_accuracy: 0.9317\n",
            "Epoch 12/30\n",
            "469/469 [==============================] - 5s 11ms/step - loss: 0.0343 - accuracy: 0.9878 - val_loss: 0.4149 - val_accuracy: 0.9338\n",
            "Epoch 13/30\n",
            "469/469 [==============================] - 5s 11ms/step - loss: 0.0352 - accuracy: 0.9872 - val_loss: 0.4213 - val_accuracy: 0.9316\n",
            "Epoch 14/30\n",
            "469/469 [==============================] - 5s 11ms/step - loss: 0.0351 - accuracy: 0.9870 - val_loss: 0.4777 - val_accuracy: 0.9324\n",
            "Epoch 15/30\n",
            "469/469 [==============================] - 5s 11ms/step - loss: 0.0325 - accuracy: 0.9885 - val_loss: 0.4135 - val_accuracy: 0.9312\n",
            "Epoch 16/30\n",
            "469/469 [==============================] - 5s 11ms/step - loss: 0.0321 - accuracy: 0.9882 - val_loss: 0.4648 - val_accuracy: 0.9317\n",
            "Epoch 17/30\n",
            "469/469 [==============================] - 5s 11ms/step - loss: 0.0309 - accuracy: 0.9891 - val_loss: 0.4347 - val_accuracy: 0.9322\n",
            "Epoch 18/30\n",
            "469/469 [==============================] - 5s 11ms/step - loss: 0.0321 - accuracy: 0.9879 - val_loss: 0.4710 - val_accuracy: 0.9325\n",
            "Epoch 19/30\n",
            "469/469 [==============================] - 5s 11ms/step - loss: 0.0323 - accuracy: 0.9881 - val_loss: 0.4873 - val_accuracy: 0.9314\n",
            "Epoch 20/30\n",
            "469/469 [==============================] - 5s 11ms/step - loss: 0.0313 - accuracy: 0.9886 - val_loss: 0.4569 - val_accuracy: 0.9329\n",
            "Epoch 21/30\n",
            "469/469 [==============================] - 5s 11ms/step - loss: 0.0327 - accuracy: 0.9880 - val_loss: 0.4323 - val_accuracy: 0.9336\n",
            "Epoch 22/30\n",
            "469/469 [==============================] - 5s 11ms/step - loss: 0.0309 - accuracy: 0.9888 - val_loss: 0.4313 - val_accuracy: 0.9336\n",
            "Epoch 23/30\n",
            "469/469 [==============================] - 5s 11ms/step - loss: 0.0302 - accuracy: 0.9887 - val_loss: 0.4044 - val_accuracy: 0.9331\n",
            "Epoch 24/30\n",
            "469/469 [==============================] - 5s 11ms/step - loss: 0.0296 - accuracy: 0.9892 - val_loss: 0.4757 - val_accuracy: 0.9315\n",
            "Epoch 25/30\n",
            "469/469 [==============================] - 5s 11ms/step - loss: 0.0315 - accuracy: 0.9890 - val_loss: 0.4192 - val_accuracy: 0.9350\n",
            "Epoch 26/30\n",
            "469/469 [==============================] - 5s 11ms/step - loss: 0.0328 - accuracy: 0.9882 - val_loss: 0.4374 - val_accuracy: 0.9377\n",
            "Epoch 27/30\n",
            "469/469 [==============================] - 5s 11ms/step - loss: 0.0308 - accuracy: 0.9887 - val_loss: 0.4085 - val_accuracy: 0.9331\n",
            "Epoch 28/30\n",
            "469/469 [==============================] - 5s 11ms/step - loss: 0.0289 - accuracy: 0.9894 - val_loss: 0.4360 - val_accuracy: 0.9339\n",
            "Epoch 29/30\n",
            "469/469 [==============================] - 5s 11ms/step - loss: 0.0310 - accuracy: 0.9890 - val_loss: 0.4513 - val_accuracy: 0.9335\n",
            "Epoch 30/30\n",
            "469/469 [==============================] - 5s 11ms/step - loss: 0.0292 - accuracy: 0.9897 - val_loss: 0.4877 - val_accuracy: 0.9316\n"
          ],
          "name": "stdout"
        },
        {
          "output_type": "execute_result",
          "data": {
            "text/plain": [
              "<tensorflow.python.keras.callbacks.History at 0x7f6c8e563dd8>"
            ]
          },
          "metadata": {
            "tags": []
          },
          "execution_count": 4
        }
      ]
    },
    {
      "cell_type": "code",
      "metadata": {
        "id": "S9wXZ2M68qep"
      },
      "source": [
        ""
      ],
      "execution_count": null,
      "outputs": []
    }
  ]
}